{
 "cells": [
  {
   "cell_type": "markdown",
   "metadata": {},
   "source": [
    "# Битовые операции"
   ]
  },
  {
   "cell_type": "code",
   "execution_count": 9,
   "metadata": {
    "vscode": {
     "languageId": "polyglot-notebook"
    }
   },
   "outputs": [
    {
     "name": "stdout",
     "output_type": "stream",
     "text": [
      "0011 = x\n",
      "0101 = y\n",
      "\n",
      "0001 - AND\n",
      "0111 - OR\n",
      "0110 - XOR\n",
      "0110 - x << 1\n",
      "0001 - x >> 1\n"
     ]
    }
   ],
   "source": [
    "byte x = 3;\n",
    "byte y = 5;\n",
    "Console.WriteLine($\"{x:B4} = x\");\n",
    "Console.WriteLine($\"{y:B4} = y\");\n",
    "Console.WriteLine();\n",
    "Console.WriteLine($\"{x & y:B4} - AND\");\n",
    "Console.WriteLine($\"{x | y:B4} - OR\");\n",
    "Console.WriteLine($\"{x ^ y:B4} - XOR\");\n",
    "Console.WriteLine($\"{x << 1:B4} - x << 1\"); // смещение на один знак\n",
    "Console.WriteLine($\"{x >> 1:B4} - x >> 1\");\n"
   ]
  },
  {
   "cell_type": "code",
   "execution_count": 10,
   "metadata": {
    "vscode": {
     "languageId": "polyglot-notebook"
    }
   },
   "outputs": [
    {
     "name": "stdout",
     "output_type": "stream",
     "text": [
      "00000000000000000000000000000011\n",
      "11111111111111111111111111111100\n",
      "11111100\n"
     ]
    }
   ],
   "source": [
    "byte x = 3;\n",
    "Console.WriteLine($\"{x:B32}\");\n",
    "Console.WriteLine($\"{~x:B}\");\n",
    "Console.WriteLine($\"{(byte)~x:B}\");\n"
   ]
  },
  {
   "cell_type": "code",
   "execution_count": 11,
   "metadata": {
    "vscode": {
     "languageId": "polyglot-notebook"
    }
   },
   "outputs": [
    {
     "name": "stdout",
     "output_type": "stream",
     "text": [
      "False\n",
      "True\n",
      "True\n"
     ]
    }
   ],
   "source": [
    "var x = true;\n",
    "var y = false;\n",
    "Console.WriteLine(x & y); // AND\n",
    "Console.WriteLine(x | y); // OR\n",
    "Console.WriteLine(x ^ y); // XOR"
   ]
  },
  {
   "cell_type": "code",
   "execution_count": 16,
   "metadata": {
    "vscode": {
     "languageId": "polyglot-notebook"
    }
   },
   "outputs": [
    {
     "name": "stdout",
     "output_type": "stream",
     "text": [
      "1 << 0 =   1 | 00000001\n",
      "1 << 1 =   2 | 00000010\n",
      "1 << 2 =   4 | 00000100\n",
      "1 << 3 =   8 | 00001000\n",
      "1 << 4 =  16 | 00010000\n",
      "1 << 5 =  32 | 00100000\n",
      "1 << 6 =  64 | 01000000\n",
      "1 << 7 = 128 | 10000000\n"
     ]
    }
   ],
   "source": [
    "for (int i = 0; i < 8; i++)\n",
    "{\n",
    "    var r = 1 << i;\n",
    "    Console.WriteLine($\"1 << {i} = {r,3} | {r,8:B8}\");\n",
    "}"
   ]
  },
  {
   "cell_type": "code",
   "execution_count": 17,
   "metadata": {
    "vscode": {
     "languageId": "polyglot-notebook"
    }
   },
   "outputs": [
    {
     "name": "stdout",
     "output_type": "stream",
     "text": [
      "128 >> 0 = 128 | 10000000\n",
      "128 >> 1 =  64 | 01000000\n",
      "128 >> 2 =  32 | 00100000\n",
      "128 >> 3 =  16 | 00010000\n",
      "128 >> 4 =   8 | 00001000\n",
      "128 >> 5 =   4 | 00000100\n",
      "128 >> 6 =   2 | 00000010\n",
      "128 >> 7 =   1 | 00000001\n"
     ]
    }
   ],
   "source": [
    "var n = 0b_1000_0000;\n",
    "for (int i = 0; i < 8; i++)\n",
    "{\n",
    "    var r = n >> i;\n",
    "    Console.WriteLine($\"{n} >> {i} = {r,3} | {r,8:B8}\");\n",
    "}"
   ]
  },
  {
   "cell_type": "code",
   "execution_count": 19,
   "metadata": {
    "vscode": {
     "languageId": "polyglot-notebook"
    }
   },
   "outputs": [
    {
     "name": "stdout",
     "output_type": "stream",
     "text": [
      "True\r\n"
     ]
    }
   ],
   "source": [
    "// Q: Как проверить на бит по маске?\n",
    "byte n          = 0b_0001_0111;\n",
    "byte checkBit = 0b_0001_0000;\n",
    "Console.WriteLine((n & checkBit) != 0)"
   ]
  },
  {
   "cell_type": "code",
   "execution_count": 26,
   "metadata": {
    "vscode": {
     "languageId": "polyglot-notebook"
    }
   },
   "outputs": [
    {
     "name": "stdout",
     "output_type": "stream",
     "text": [
      "00000010\n",
      "False\n"
     ]
    }
   ],
   "source": [
    "// Q: Как проверить на бит по номеру\n",
    "//                   7654 3210\n",
    "byte n          = 0b_0001_0101;\n",
    "byte numBit = 1;\n",
    "Console.WriteLine($\"{1 << numBit:B8}\");\n",
    "Console.WriteLine((n & (n << numBit)) != 0);"
   ]
  }
 ],
 "metadata": {
  "kernelspec": {
   "display_name": ".NET (C#)",
   "language": "C#",
   "name": ".net-csharp"
  },
  "language_info": {
   "name": "python"
  },
  "polyglot_notebook": {
   "kernelInfo": {
    "defaultKernelName": "csharp",
    "items": [
     {
      "aliases": [],
      "name": "csharp"
     }
    ]
   }
  }
 },
 "nbformat": 4,
 "nbformat_minor": 2
}
