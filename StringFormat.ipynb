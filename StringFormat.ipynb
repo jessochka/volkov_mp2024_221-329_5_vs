{
 "cells": [
  {
   "cell_type": "markdown",
   "metadata": {},
   "source": [
    "# Форматирование строк"
   ]
  },
  {
   "cell_type": "code",
   "execution_count": 1,
   "metadata": {
    "vscode": {
     "languageId": "polyglot-notebook"
    }
   },
   "outputs": [
    {
     "name": "stdout",
     "output_type": "stream",
     "text": [
      "Юра19\n",
      "Юра19\n",
      "Юра19\n",
      "Юра19\n",
      "Юра19\n"
     ]
    }
   ],
   "source": [
    "var name = \"Юра\";\n",
    "var age = 19;\n",
    "Console.WriteLine(name + age); // Конкатенация строк\n",
    "Console.WriteLine(String.Concat(name, age));\n",
    "Console.WriteLine(String.Join(\"\", name, age));\n",
    "Console.WriteLine(String.Format(\"{0}{1}\", name, age));\n",
    "Console.WriteLine($\"{name}{age}\"); //Интерполяция строк"
   ]
  },
  {
   "cell_type": "code",
   "execution_count": 8,
   "metadata": {
    "vscode": {
     "languageId": "polyglot-notebook"
    }
   },
   "outputs": [
    {
     "name": "stdout",
     "output_type": "stream",
     "text": [
      "0.16666666666666666\n",
      "0.16666666666666666\n",
      "0.167\n",
      "0.166667\n",
      "16.667%\n",
      "17%\n",
      "1.666667E-001\n",
      "1.67E-001\n"
     ]
    }
   ],
   "source": [
    "var v = 1 / 6.0;\n",
    "Console.WriteLine(v);\n",
    "// Формат данных и точность после запятой\n",
    "Console.WriteLine(v.ToString()); \n",
    "Console.WriteLine(v.ToString(\"F\")); // По умолчанию три знака после запятой\n",
    "Console.WriteLine(v.ToString(\"F6\")); // F - Число с дробной частью\n",
    "\n",
    "Console.WriteLine(v.ToString(\"P\")); // P - Число в процентах\n",
    "Console.WriteLine(v.ToString(\"P0\"));\n",
    "// Е - экспоненциальное представление числа\n",
    "Console.WriteLine(v.ToString(\"E\"));\n",
    "Console.WriteLine(v.ToString(\"E2\"));"
   ]
  },
  {
   "cell_type": "code",
   "execution_count": 9,
   "metadata": {
    "vscode": {
     "languageId": "polyglot-notebook"
    }
   },
   "outputs": [
    {
     "name": "stdout",
     "output_type": "stream",
     "text": [
      "0.16666666666666666\n",
      "0.167\n",
      "0.166667\n",
      "16.667%\n",
      "1.666667E-001\n"
     ]
    }
   ],
   "source": [
    "Console.WriteLine($\"{v}\");\n",
    "Console.WriteLine($\"{v:F}\");\n",
    "Console.WriteLine($\"{v:F6}\");\n",
    "Console.WriteLine($\"{v:P}\");\n",
    "Console.WriteLine($\"{v:E}\");"
   ]
  },
  {
   "cell_type": "code",
   "execution_count": 13,
   "metadata": {
    "vscode": {
     "languageId": "polyglot-notebook"
    }
   },
   "outputs": [
    {
     "name": "stdout",
     "output_type": "stream",
     "text": [
      "1666666.6666666667\n",
      "1,666,666.667\n",
      "1,666,666.66667\n",
      "¤1,666,666.67\n"
     ]
    }
   ],
   "source": [
    "var v = 1 / 0.000_000_6;\n",
    "Console.WriteLine(v);\n",
    "Console.WriteLine($\"{v:N}\"); // N - Число с разделителем тысяч\n",
    "Console.WriteLine($\"{v:N5}\");\n",
    "Console.WriteLine($\"{v:C}\");"
   ]
  },
  {
   "cell_type": "code",
   "execution_count": 16,
   "metadata": {
    "vscode": {
     "languageId": "polyglot-notebook"
    }
   },
   "outputs": [
    {
     "name": "stdout",
     "output_type": "stream",
     "text": [
      "¤1,666,666.67\n",
      "1 666 666,67 ₽\n",
      "$1,666,666.67\n",
      "¥1,666,666.67\n"
     ]
    }
   ],
   "source": [
    "using System.Globalization;\n",
    "\n",
    "Console.WriteLine(v.ToString(\"C\"));\n",
    "Console.WriteLine(v.ToString(\"C\", new CultureInfo(\"ru-RU\")));\n",
    "Console.WriteLine(v.ToString(\"C\", new CultureInfo(\"en-US\")));\n",
    "Console.WriteLine(v.ToString(\"C\", new CultureInfo(\"zh-CN\")));"
   ]
  },
  {
   "cell_type": "code",
   "execution_count": 17,
   "metadata": {
    "vscode": {
     "languageId": "polyglot-notebook"
    }
   },
   "outputs": [
    {
     "name": "stdout",
     "output_type": "stream",
     "text": [
      "11111111\n",
      "255\n",
      "FF\n"
     ]
    }
   ],
   "source": [
    "// Формат данных: Системы счисления\n",
    "var n = 255;\n",
    "// B - 2СС\n",
    "// D - 10СС\n",
    "// X - 16СС\n",
    "Console.WriteLine($\"{n:B}\");\n",
    "Console.WriteLine($\"{n:D}\");\n",
    "Console.WriteLine($\"{n:X}\");"
   ]
  },
  {
   "cell_type": "code",
   "execution_count": 20,
   "metadata": {
    "vscode": {
     "languageId": "polyglot-notebook"
    }
   },
   "outputs": [
    {
     "name": "stdout",
     "output_type": "stream",
     "text": [
      "255\n",
      "255\n",
      "255\n"
     ]
    }
   ],
   "source": [
    "Console.WriteLine(Convert.ToInt32(\"11111111\", 2));\n",
    "Console.WriteLine(Convert.ToInt32(\"377\", 8));\n",
    "Console.WriteLine(Convert.ToInt32(\"FF\", 16));"
   ]
  },
  {
   "cell_type": "code",
   "execution_count": 21,
   "metadata": {
    "vscode": {
     "languageId": "polyglot-notebook"
    }
   },
   "outputs": [
    {
     "name": "stdout",
     "output_type": "stream",
     "text": [
      "11111111\n",
      "377\n",
      "255\n",
      "ff\n"
     ]
    }
   ],
   "source": [
    "var n = 255;\n",
    "Console.WriteLine(Convert.ToString(n, 2));\n",
    "Console.WriteLine(Convert.ToString(n, 8));\n",
    "Console.WriteLine(Convert.ToString(n, 10));\n",
    "Console.WriteLine(Convert.ToString(n, 16));\n"
   ]
  },
  {
   "cell_type": "code",
   "execution_count": 22,
   "metadata": {
    "vscode": {
     "languageId": "polyglot-notebook"
    }
   },
   "outputs": [
    {
     "data": {
      "text/html": [
       "<div class=\"dni-plaintext\"><pre>255</pre></div><style>\r\n",
       ".dni-code-hint {\r\n",
       "    font-style: italic;\r\n",
       "    overflow: hidden;\r\n",
       "    white-space: nowrap;\r\n",
       "}\r\n",
       ".dni-treeview {\r\n",
       "    white-space: nowrap;\r\n",
       "}\r\n",
       ".dni-treeview td {\r\n",
       "    vertical-align: top;\r\n",
       "    text-align: start;\r\n",
       "}\r\n",
       "details.dni-treeview {\r\n",
       "    padding-left: 1em;\r\n",
       "}\r\n",
       "table td {\r\n",
       "    text-align: start;\r\n",
       "}\r\n",
       "table tr { \r\n",
       "    vertical-align: top; \r\n",
       "    margin: 0em 0px;\r\n",
       "}\r\n",
       "table tr td pre \r\n",
       "{ \r\n",
       "    vertical-align: top !important; \r\n",
       "    margin: 0em 0px !important;\r\n",
       "} \r\n",
       "table th {\r\n",
       "    text-align: start;\r\n",
       "}\r\n",
       "</style>"
      ]
     },
     "metadata": {},
     "output_type": "display_data"
    }
   ],
   "source": [
    "var n = 0b_1111_1111;\n",
    "n"
   ]
  },
  {
   "cell_type": "code",
   "execution_count": 23,
   "metadata": {
    "vscode": {
     "languageId": "polyglot-notebook"
    }
   },
   "outputs": [
    {
     "data": {
      "text/html": [
       "<div class=\"dni-plaintext\"><pre>255</pre></div><style>\r\n",
       ".dni-code-hint {\r\n",
       "    font-style: italic;\r\n",
       "    overflow: hidden;\r\n",
       "    white-space: nowrap;\r\n",
       "}\r\n",
       ".dni-treeview {\r\n",
       "    white-space: nowrap;\r\n",
       "}\r\n",
       ".dni-treeview td {\r\n",
       "    vertical-align: top;\r\n",
       "    text-align: start;\r\n",
       "}\r\n",
       "details.dni-treeview {\r\n",
       "    padding-left: 1em;\r\n",
       "}\r\n",
       "table td {\r\n",
       "    text-align: start;\r\n",
       "}\r\n",
       "table tr { \r\n",
       "    vertical-align: top; \r\n",
       "    margin: 0em 0px;\r\n",
       "}\r\n",
       "table tr td pre \r\n",
       "{ \r\n",
       "    vertical-align: top !important; \r\n",
       "    margin: 0em 0px !important;\r\n",
       "} \r\n",
       "table th {\r\n",
       "    text-align: start;\r\n",
       "}\r\n",
       "</style>"
      ]
     },
     "metadata": {},
     "output_type": "display_data"
    }
   ],
   "source": [
    "var n = 0x_FF;\n",
    "n"
   ]
  },
  {
   "cell_type": "code",
   "execution_count": 26,
   "metadata": {
    "vscode": {
     "languageId": "polyglot-notebook"
    }
   },
   "outputs": [
    {
     "name": "stdout",
     "output_type": "stream",
     "text": [
      "123456789\n",
      "123456 7 89\n"
     ]
    }
   ],
   "source": [
    "// Маска числа\n",
    "var n = 123456789;\n",
    "Console.WriteLine($\"{n}\");\n",
    "Console.WriteLine($\"{n:# # ##}\"); // С конца"
   ]
  },
  {
   "cell_type": "code",
   "execution_count": 29,
   "metadata": {
    "vscode": {
     "languageId": "polyglot-notebook"
    }
   },
   "outputs": [
    {
     "name": "stdout",
     "output_type": "stream",
     "text": [
      "123\n",
      " 1 23\n",
      "0 1 23\n",
      "* * **\n"
     ]
    }
   ],
   "source": [
    "var n = 123;\n",
    "Console.WriteLine($\"{n}\");\n",
    "Console.WriteLine($\"{n:# # ##}\");\n",
    "Console.WriteLine($\"{n:0 0 00}\");"
   ]
  },
  {
   "cell_type": "code",
   "execution_count": 31,
   "metadata": {
    "vscode": {
     "languageId": "polyglot-notebook"
    }
   },
   "outputs": [
    {
     "name": "stdout",
     "output_type": "stream",
     "text": [
      "+7 (926) 123-11-22\n",
      "+7 (926) 123-11-22\n"
     ]
    }
   ],
   "source": [
    "ulong n = 926_123_11_22;\n",
    "Console.WriteLine($\"{n:+7 (###) ###-##-##}\");\n",
    "Console.WriteLine(n.ToString(\"+7 (###) ###-##-##\"));"
   ]
  },
  {
   "cell_type": "code",
   "execution_count": 33,
   "metadata": {
    "vscode": {
     "languageId": "polyglot-notebook"
    }
   },
   "outputs": [
    {
     "name": "stdout",
     "output_type": "stream",
     "text": [
      "00FF\n",
      "    00FF\n",
      "00FF    \n"
     ]
    }
   ],
   "source": [
    "// Выравнивание\n",
    "var n = 255;\n",
    "Console.WriteLine($\"{n:X4}\");\n",
    "Console.WriteLine($\"{n,8:X4}\");\n",
    "Console.WriteLine($\"{n,-8:X4}\");\n"
   ]
  }
 ],
 "metadata": {
  "kernelspec": {
   "display_name": ".NET (C#)",
   "language": "C#",
   "name": ".net-csharp"
  },
  "language_info": {
   "name": "python"
  },
  "polyglot_notebook": {
   "kernelInfo": {
    "defaultKernelName": "csharp",
    "items": [
     {
      "aliases": [],
      "name": "csharp"
     }
    ]
   }
  }
 },
 "nbformat": 4,
 "nbformat_minor": 2
}
