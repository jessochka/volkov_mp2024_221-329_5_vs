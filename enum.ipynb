{
 "cells": [
  {
   "cell_type": "markdown",
   "metadata": {},
   "source": [
    "# Перечисление (Enum)"
   ]
  },
  {
   "cell_type": "code",
   "execution_count": 7,
   "metadata": {
    "vscode": {
     "languageId": "polyglot-notebook"
    }
   },
   "outputs": [
    {
     "name": "stdout",
     "output_type": "stream",
     "text": [
      "Todo\n",
      "Done\n",
      "100\n",
      "System.Int32\n",
      "Int32\n"
     ]
    }
   ],
   "source": [
    "enum TaskStatus {Todo, InProgress, Done = 100, Closed } // 100 - индекс\n",
    "\n",
    "TaskStatus taskStatus;\n",
    "Console.WriteLine(taskStatus); // Значение по умолчанию\n",
    "taskStatus = TaskStatus.Done;\n",
    "Console.WriteLine(taskStatus);\n",
    "Console.WriteLine(taskStatus.ToString(\"D\"));\n",
    "Console.WriteLine(Enum.GetUnderlyingType(taskStatus.GetType())); //Возвращает базовый тип указанного перечисления.\n",
    "Console.WriteLine(taskStatus.GetTypeCode());\n",
    "\n",
    "// if (taskStatus == 2) ...\n",
    "// if (taskStatus == \"Done\") ...\n",
    "// if (taskStatus == TaskStatus.Done) ..."
   ]
  },
  {
   "cell_type": "code",
   "execution_count": 11,
   "metadata": {
    "vscode": {
     "languageId": "polyglot-notebook"
    }
   },
   "outputs": [
    {
     "name": "stdout",
     "output_type": "stream",
     "text": [
      "3\n",
      "Byte\n",
      "Black\n"
     ]
    }
   ],
   "source": [
    "enum MultiColor : byte\n",
    "{\n",
    "    Red = 1,    //0b_0000_0001\n",
    "    Black = 2,  //0B_0000_0010\n",
    "    Blue = 4,   //0B_0000_0100\n",
    "    Yellow = 8,  //0B_0000_1000\n",
    "    RedBlue = Red | Blue,\n",
    "    All = Red | Black | Blue | Yellow,\n",
    "}\n",
    "\n",
    "MultiColor multiColor;\n",
    "multiColor = MultiColor.Red;\n",
    "multiColor |= MultiColor.Black; // Добавление\n",
    "Console.WriteLine(multiColor);\n",
    "Console.WriteLine(multiColor.GetTypeCode());\n",
    "\n",
    "multiColor = MultiColor.All;\n",
    "multiColor ^= MultiColor.RedBlue;\n",
    "multiColor ^= MultiColor.Yellow;\n",
    "Console.WriteLine(multiColor);"
   ]
  },
  {
   "cell_type": "code",
   "execution_count": 12,
   "metadata": {
    "vscode": {
     "languageId": "polyglot-notebook"
    }
   },
   "outputs": [
    {
     "name": "stdout",
     "output_type": "stream",
     "text": [
      "Это только Red = False\n",
      "Присутствует Red = True\n"
     ]
    }
   ],
   "source": [
    "multiColor = MultiColor.RedBlue;\n",
    "// Проверка на значение\n",
    "Console.WriteLine($\"Это только Red = {multiColor == MultiColor.Red}\");\n",
    "Console.WriteLine($\"Присутствует Red = {multiColor.HasFlag(MultiColor.Red)}\");"
   ]
  }
 ],
 "metadata": {
  "kernelspec": {
   "display_name": ".NET (C#)",
   "language": "C#",
   "name": ".net-csharp"
  },
  "language_info": {
   "name": "python"
  },
  "polyglot_notebook": {
   "kernelInfo": {
    "defaultKernelName": "csharp",
    "items": [
     {
      "aliases": [],
      "name": "csharp"
     }
    ]
   }
  }
 },
 "nbformat": 4,
 "nbformat_minor": 2
}
