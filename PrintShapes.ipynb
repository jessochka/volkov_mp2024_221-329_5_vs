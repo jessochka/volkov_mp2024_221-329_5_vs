{
 "cells": [
  {
   "cell_type": "code",
   "execution_count": 6,
   "metadata": {
    "dotnet_interactive": {
     "language": "csharp"
    },
    "polyglot_notebook": {
     "kernelName": "csharp"
    }
   },
   "outputs": [],
   "source": [
    "// -- плохо\n",
    "int w = 20;\n",
    "int h =6;\n",
    "char s = '*';\n",
    "bool f = true;"
   ]
  },
  {
   "cell_type": "code",
   "execution_count": 7,
   "metadata": {},
   "outputs": [
    {
     "name": "stdout",
     "output_type": "stream",
     "text": [
      "                    \n",
      "                    \n",
      "                    \n",
      "                    \n",
      "                    \n",
      "                    \n"
     ]
    }
   ],
   "source": [
    "int width = 20;\n",
    "int height =6;\n",
    "char symbol = '*';\n",
    "bool isFill = ! true;\n",
    "char symbolClear = ' ';\n",
    "\n",
    "// (1)\n",
    "for (int r = 0; r < height; r++)\n",
    "{\n",
    "    for (int c = 0; c < width; c++)\n",
    "    {\n",
    "        if (isFill)\n",
    "        {\n",
    "            Console.Write(symbol);\n",
    "        }\n",
    "        else\n",
    "        {\n",
    "            if (r == 0 || r == height - 1 || c == 0 || c == width - 1)\n",
    "            {\n",
    "                Console.Write(symbolClear);\n",
    "            }\n",
    "            else \n",
    "            {\n",
    "                Console.Write(' ');\n",
    "            }\n",
    "        }\n",
    "        \n",
    "    }\n",
    "    Console.WriteLine();\n",
    "}"
   ]
  },
  {
   "cell_type": "code",
   "execution_count": 9,
   "metadata": {},
   "outputs": [
    {
     "name": "stdout",
     "output_type": "stream",
     "text": [
      "********************\n",
      "*                  *\n",
      "*                  *\n",
      "*                  *\n",
      "*                  *\n",
      "********************\n"
     ]
    }
   ],
   "source": [
    "int width = 20;\n",
    "int height =6;\n",
    "char symbol = '*';\n",
    "bool isFill = ! true;\n",
    "char symbolClear = ' ';\n",
    "\n",
    "// (2)\n",
    "for (int r = 0; r < height; r++)\n",
    "{\n",
    "    for (int c = 0; c < width; c++)\n",
    "    {\n",
    "        bool isSymb = (r == 0 || r == height - 1 || c == 0 || c == width - 1);\n",
    "        Console.Write(isSymb ? symbol : symbolClear);\n",
    "    }\n",
    "    Console.WriteLine();\n",
    "}"
   ]
  },
  {
   "cell_type": "code",
   "execution_count": 8,
   "metadata": {},
   "outputs": [
    {
     "name": "stdout",
     "output_type": "stream",
     "text": [
      "********************\n",
      "*                  *\n",
      "*                  *\n",
      "*                  *\n",
      "*                  *\n",
      "********************\n"
     ]
    }
   ],
   "source": [
    "int width = 20;\n",
    "int height =6;\n",
    "char symbol = '*';\n",
    "bool isFill = ! true;\n",
    "char symbolClear = ' ';\n",
    "\n",
    "// (3)\n",
    "for (int r = 0; r < height; r++)\n",
    "{\n",
    "    if (isFill || r == 0 || r == height - 1)\n",
    "        Console.WriteLine(new string(symbol, width));\n",
    "    else\n",
    "    Console.WriteLine(symbol + new string(symbolClear, width - 2) + symbol);\n",
    "}"
   ]
  },
  {
   "cell_type": "code",
   "execution_count": 13,
   "metadata": {},
   "outputs": [
    {
     "name": "stdout",
     "output_type": "stream",
     "text": [
      "********************\n",
      "********************\n",
      "********************\n",
      "********************\n",
      "********************\n",
      "********************\n",
      "####################\n",
      "#                  #\n",
      "#                  #\n",
      "#                  #\n",
      "#                  #\n",
      "####################\n",
      "********************\n",
      "*                  *\n",
      "*                  *\n",
      "*                  *\n",
      "*                  *\n",
      "********************\n"
     ]
    }
   ],
   "source": [
    "/// <summary>\n",
    "/// Нарисовать прямоугольник в консоли\n",
    "/// </summary>\n",
    "void PrintRectangle(\n",
    "    int width,\n",
    "    int height,\n",
    "    char symbol = '*',\n",
    "    bool isFill = true,\n",
    "    char symbolClear = ' '\n",
    ")\n",
    "{\n",
    "    for (int r = 0; r < height; r++)\n",
    "    {\n",
    "        if (isFill || r == 0 || r == height - 1)\n",
    "            Console.WriteLine(new string(symbol, width));\n",
    "        else\n",
    "        Console.WriteLine(symbol + new string(symbolClear, width - 2) + symbol);\n",
    "    }\n",
    "}\n",
    "PrintRectangle(20, 6);\n",
    "PrintRectangle(20, 6, '#', false);\n",
    "PrintRectangle(20, 6, isFill: false);\n"
   ]
  },
  {
   "cell_type": "code",
   "execution_count": 14,
   "metadata": {},
   "outputs": [
    {
     "name": "stdout",
     "output_type": "stream",
     "text": [
      "####################\n",
      "#                  #\n",
      "#                  #\n",
      "#                  #\n",
      "#                  #\n",
      "####################\n"
     ]
    }
   ],
   "source": [
    "PrintRectangle(width: 20, height: 6, symbol: '#', isFill: false);"
   ]
  },
  {
   "cell_type": "code",
   "execution_count": 19,
   "metadata": {},
   "outputs": [
    {
     "name": "stdout",
     "output_type": "stream",
     "text": [
      "********************\n",
      "*                  *\n",
      "*                  *\n",
      "*                  *\n",
      "********************\n"
     ]
    },
    {
     "data": {
      "text/plain": [
       "********************\r\n",
       "*                  *\r\n",
       "*                  *\r\n",
       "*                  *\r\n",
       "********************"
      ]
     },
     "metadata": {},
     "output_type": "display_data"
    }
   ],
   "source": [
    "/// <summary>\n",
    "/// Вернуть прямоугольник в виде массива строк.\n",
    "/// </summary>\n",
    "string[] GetRectangle(\n",
    "    int width,\n",
    "    int height,\n",
    "    char symbol = '*',\n",
    "    bool isFill = true,\n",
    "    char symbolClear = ' '\n",
    ")\n",
    "{\n",
    "    //List<string> result = new List<string>(); // список строк\n",
    "    //var result = new List<string>();\n",
    "    List<string> result = new();\n",
    "\n",
    "    for (int r = 0; r < height; r++)\n",
    "    {\n",
    "        if (isFill || r == 0 || r == height - 1)\n",
    "            result.Add(new string(symbol, width));\n",
    "        else\n",
    "            result.Add(symbol + new string(symbolClear, width - 2) + symbol);\n",
    "    }\n",
    "    return result.ToArray();\n",
    "}\n",
    "\n",
    "//string shape = GetRectangle(20, 5);\n",
    "var shape = GetRectangle(20, 5, isFill: false);\n",
    "// (1)\n",
    "foreach (var line in shape)\n",
    "    Console.WriteLine(line);\n",
    "// (2)\n",
    "//String.Join('\\n', shape)\n",
    "String.Join(Environment.NewLine, shape)"
   ]
  },
  {
   "cell_type": "code",
   "execution_count": 20,
   "metadata": {
    "dotnet_interactive": {
     "language": "csharp"
    },
    "polyglot_notebook": {
     "kernelName": "csharp"
    }
   },
   "outputs": [
    {
     "name": "stdout",
     "output_type": "stream",
     "text": [
      "********************\n",
      "********************\n",
      "********************\n",
      "********************\n",
      "********************\n",
      "********************\n",
      "####################\n",
      "#                  #\n",
      "#                  #\n",
      "#                  #\n",
      "#                  #\n",
      "####################\n",
      "********************\n",
      "*                  *\n",
      "*                  *\n",
      "*                  *\n",
      "*                  *\n",
      "********************\n"
     ]
    }
   ],
   "source": [
    "/// <summary>\n",
    "/// Нарисовать прямоугольник в консоли\n",
    "/// </summary>\n",
    "void PrintRectangle(\n",
    "    int width,\n",
    "    int height,\n",
    "    char symbol = '*',\n",
    "    bool isFill = true,\n",
    "    char symbolClear = ' '\n",
    ")\n",
    "{\n",
    "    var shape = GetRectangle(width, height, symbol, isFill, symbolClear);\n",
    "    Console.WriteLine(String.Join(Environment.NewLine, shape));\n",
    "}\n",
    "PrintRectangle(20, 6);\n",
    "PrintRectangle(20, 6, '#', false);\n",
    "PrintRectangle(20, 6, isFill: false);"
   ]
  },
  {
   "cell_type": "code",
   "execution_count": 13,
   "metadata": {},
   "outputs": [
    {
     "name": "stdout",
     "output_type": "stream",
     "text": [
      "    ф\n",
      "   ффф\n",
      "  ффффф\n",
      " ффффффф\n",
      "ффффффффф\n",
      " ффффффф\n",
      "  ффффф\n",
      "   ффф\n",
      "    ф\n",
      "\n",
      "@@@@@@@@@@\n",
      "@@@@  @@@@\n",
      "@@@    @@@\n",
      "@@      @@\n",
      "@        @\n",
      "@        @\n",
      "@@      @@\n",
      "@@@    @@@\n",
      "@@@@  @@@@\n",
      "@@@@@@@@@@\n"
     ]
    }
   ],
   "source": [
    "/// <summary>\n",
    "/// Задание 1, вывести ромб\n",
    "/// </summary>\n",
    "static string[] GetRomb(int size, int variant = 1, char symbol = '*')\n",
    "{\n",
    "    List<string> result = new List<string>();\n",
    "\n",
    "    if (variant == 1)\n",
    "    {\n",
    "        // заполненный ромб\n",
    "        for (int i = 0; i < size; i++)\n",
    "        {\n",
    "            result.Add(new string(' ', size - i - 1) + new string(symbol, 2 * i + 1));\n",
    "        }\n",
    "        for (int i = size - 2; i >= 0; i--)\n",
    "        {\n",
    "            result.Add(new string(' ', size - i - 1) + new string(symbol, 2 * i + 1));\n",
    "        }\n",
    "    }\n",
    "    else if (variant == 0)\n",
    "    {\n",
    "        // ромб из пустоты\n",
    "        for (int i = size - 1; i >= 0; i--)\n",
    "        {\n",
    "            string spacesBetween = new string(' ', 2 * (size - i - 1));\n",
    "            result.Add(new string(symbol, i + 1) + spacesBetween + new string(symbol, i + 1));\n",
    "        }\n",
    "        for (int i = 0; i < size; i++)\n",
    "        {\n",
    "            string spacesBetween = new string(' ', 2 * (size - i - 1));\n",
    "            result.Add(new string(symbol, i + 1) + spacesBetween + new string(symbol, i + 1));\n",
    "        }\n",
    "    }\n",
    "    else\n",
    "    {\n",
    "        result.Add(\"Invalid variant selected. Use 1 for left or 0 for right.\");\n",
    "    }\n",
    "\n",
    "    return result.ToArray();\n",
    "}\n",
    "\n",
    "var shape = GetRomb(5, 1, 'ф'); \n",
    "\n",
    "foreach (var line in shape)\n",
    "    Console.WriteLine(line);\n",
    "\n",
    "Console.WriteLine();\n",
    "\n",
    "\n",
    "var shape2 = GetRomb(5, 0, '@');\n",
    "\n",
    "foreach (var line in shape2)\n",
    "    Console.WriteLine(line);\n"
   ]
  },
  {
   "cell_type": "code",
   "execution_count": 17,
   "metadata": {},
   "outputs": [
    {
     "name": "stdout",
     "output_type": "stream",
     "text": [
      "    Ж\n",
      "   ЖЖЖ\n",
      "  ЖЖЖЖЖ\n",
      " ЖЖЖЖЖЖЖ\n",
      "ЖЖЖЖЖЖЖЖЖ\n",
      " ЖЖЖЖЖЖЖ\n",
      "  ЖЖЖЖЖ\n",
      "   ЖЖЖ\n",
      "    Ж\n",
      "\n",
      "№№№№№№№№№№\n",
      "№№№№  №№№№\n",
      "№№№    №№№\n",
      "№№      №№\n",
      "№        №\n",
      "№        №\n",
      "№№      №№\n",
      "№№№    №№№\n",
      "№№№№  №№№№\n",
      "№№№№№№№№№№\n"
     ]
    }
   ],
   "source": [
    "static void PrintRomb(int size, int variant = 1, char symbol = '*')\n",
    "{\n",
    "    var shape = GetRomb(size, variant, symbol);\n",
    "    Console.WriteLine(String.Join(Environment.NewLine, shape));\n",
    "}\n",
    "\n",
    "PrintRomb(5, 1, 'Ж'); \n",
    "Console.WriteLine();\n",
    "PrintRomb(5, 0, '№');"
   ]
  },
  {
   "cell_type": "code",
   "execution_count": 20,
   "metadata": {},
   "outputs": [
    {
     "name": "stdout",
     "output_type": "stream",
     "text": [
      "*******\n",
      " *****\n",
      "  ***\n",
      "   *\n",
      "  ***\n",
      " *****\n",
      "*******\n",
      "\n",
      "#######\n",
      " #   #\n",
      "  # #\n",
      "   #\n",
      "  # #\n",
      " #   #\n",
      "#######\n"
     ]
    }
   ],
   "source": [
    "/// <summary>\n",
    "/// задание 2, песочные часы\n",
    "/// </summary>\n",
    "static string[] GetHourglass(int size, int variant = 1, char symbol = '*')\n",
    "{\n",
    "    List<string> result = new List<string>();\n",
    "\n",
    "    // Верхняя половина\n",
    "    for (int i = 0; i <= size / 2; i++)\n",
    "    {\n",
    "        if (variant == 1)\n",
    "        {\n",
    "            result.Add(new string(' ', i) + new string(symbol, size - 2 * i));\n",
    "        }\n",
    "        else\n",
    "        {\n",
    "            if (i == 0)\n",
    "            {\n",
    "                result.Add(new string(symbol, size));\n",
    "            }\n",
    "            else\n",
    "            {\n",
    "                int innerSpaces = size - 2 * (i + 1);\n",
    "                result.Add(new string(' ', i) + symbol + (innerSpaces > 0 ? new string(' ', innerSpaces) + symbol : \"\"));\n",
    "            }\n",
    "        }\n",
    "    }\n",
    "\n",
    "    // Нижняя половина\n",
    "    for (int i = size / 2 - 1; i >= 0; i--)\n",
    "    {\n",
    "        if (variant == 1)\n",
    "        {\n",
    "            result.Add(new string(' ', i) + new string(symbol, size - 2 * i));\n",
    "        }\n",
    "        else\n",
    "        {\n",
    "            if (i == 0)\n",
    "            {\n",
    "                result.Add(new string(symbol, size));\n",
    "            }\n",
    "            else\n",
    "            {\n",
    "                int innerSpaces = size - 2 * (i + 1);\n",
    "                result.Add(new string(' ', i) + symbol + (innerSpaces > 0 ? new string(' ', innerSpaces) + symbol : \"\"));\n",
    "            }\n",
    "        }\n",
    "    }\n",
    "\n",
    "    return result.ToArray();\n",
    "}\n",
    "\n",
    "var filledHourglass = GetHourglass(7, 1, '*');\n",
    "foreach (var line in filledHourglass)\n",
    "    Console.WriteLine(line);\n",
    "\n",
    "Console.WriteLine();\n",
    "\n",
    "var hollowHourglass = GetHourglass(7, 0, '#');\n",
    "foreach (var line in hollowHourglass)\n",
    "    Console.WriteLine(line);\n",
    "\n"
   ]
  },
  {
   "cell_type": "code",
   "execution_count": 25,
   "metadata": {},
   "outputs": [
    {
     "name": "stdout",
     "output_type": "stream",
     "text": [
      "ННННННН\n",
      " ННННН\n",
      "  ННН\n",
      "   Н\n",
      "  ННН\n",
      " ННННН\n",
      "ННННННН\n",
      "\n",
      "///////\n",
      " /   /\n",
      "  / /\n",
      "   /\n",
      "  / /\n",
      " /   /\n",
      "///////\n"
     ]
    }
   ],
   "source": [
    "static void PrintHourglass(int size, int variant = 1, char symbol = '*')\n",
    "{\n",
    "    var shape = GetHourglass(size, variant, symbol);\n",
    "    Console.WriteLine(String.Join(Environment.NewLine, shape));\n",
    "}\n",
    "\n",
    "PrintHourglass(7, 1, 'Н');\n",
    "Console.WriteLine();\n",
    "PrintHourglass(7, 0, '/');\n"
   ]
  },
  {
   "cell_type": "code",
   "execution_count": 34,
   "metadata": {},
   "outputs": [
    {
     "name": "stdout",
     "output_type": "stream",
     "text": [
      "11111111111111111111111111111\n",
      "1                           1\n",
      "1 2222222222222222222222222 1\n",
      "1 2                       2 1\n",
      "1 2 333333333333333333333 2 1\n",
      "1 2 3                   3 2 1\n",
      "1 2 3                   3 2 1\n",
      "1 2 3                   3 2 1\n",
      "1 2 333333333333333333333 2 1\n",
      "1 2                       2 1\n",
      "1 2222222222222222222222222 1\n",
      "1                           1\n",
      "11111111111111111111111111111\n"
     ]
    }
   ],
   "source": [
    "/// <summary>\n",
    "/// Задание 3, прямоугольник\n",
    "/// </summary>\n",
    "static string[] GetRectangles(int numRectangles)\n",
    "{\n",
    "    int width = (int)Math.Pow(numRectangles, 3) + 2;\n",
    "    int height = numRectangles * 4 + 1;\n",
    "\n",
    "    List<char[]> result = new List<char[]>();\n",
    "    for (int i = 0; i < height; i++)\n",
    "    {\n",
    "        char[] line = new char[width];\n",
    "        for (int j = 0; j < width; j++)\n",
    "        {\n",
    "            line[j] = ' ';\n",
    "        }\n",
    "        result.Add(line);\n",
    "    }\n",
    "\n",
    "    int left = 0, right = width - 1;\n",
    "    int top = 0, bottom = height - 1;\n",
    "    int rectNum = 1;\n",
    "\n",
    "    while (left < right && top < bottom)\n",
    "    {\n",
    "        for (int i = left; i <= right; i++)\n",
    "        {\n",
    "            result[top][i] = (char)(rectNum + '0');\n",
    "            result[bottom][i] = (char)(rectNum + '0');\n",
    "        }\n",
    "\n",
    "        for (int i = top + 1; i < bottom; i++)\n",
    "        {\n",
    "            result[i][left] = (char)(rectNum + '0');\n",
    "            result[i][right] = (char)(rectNum + '0');\n",
    "        }\n",
    "\n",
    "        // Уменьшаем границы и увеличиваем номер прямоугольника\n",
    "        left += 2;\n",
    "        right -= 2;\n",
    "        top += 2;\n",
    "        bottom -= 2;\n",
    "        rectNum++;\n",
    "    }\n",
    "\n",
    "    // симоволы -> строки\n",
    "    string[] output = new string[height];\n",
    "    for (int i = 0; i < height; i++)\n",
    "    {\n",
    "        output[i] = new string(result[i]);\n",
    "    }\n",
    "\n",
    "    return output;\n",
    "}\n",
    "\n",
    "var rectangles = GetRectangles(3);\n",
    "foreach (var line in rectangles)\n",
    "    Console.WriteLine(line);\n",
    "\n",
    "\n"
   ]
  },
  {
   "cell_type": "code",
   "execution_count": 37,
   "metadata": {
    "dotnet_interactive": {
     "language": "csharp"
    },
    "polyglot_notebook": {
     "kernelName": "csharp"
    }
   },
   "outputs": [
    {
     "name": "stdout",
     "output_type": "stream",
     "text": [
      "1111111111111111111111111111111111111111111111111111111111111111111111111111111111111111111111111111111111111111111111111111111\n",
      "1                                                                                                                             1\n",
      "1 222222222222222222222222222222222222222222222222222222222222222222222222222222222222222222222222222222222222222222222222222 1\n",
      "1 2                                                                                                                         2 1\n",
      "1 2 33333333333333333333333333333333333333333333333333333333333333333333333333333333333333333333333333333333333333333333333 2 1\n",
      "1 2 3                                                                                                                     3 2 1\n",
      "1 2 3 4444444444444444444444444444444444444444444444444444444444444444444444444444444444444444444444444444444444444444444 3 2 1\n",
      "1 2 3 4                                                                                                                 4 3 2 1\n",
      "1 2 3 4 555555555555555555555555555555555555555555555555555555555555555555555555555555555555555555555555555555555555555 4 3 2 1\n",
      "1 2 3 4 5                                                                                                             5 4 3 2 1\n",
      "1 2 3 4 5                                                                                                             5 4 3 2 1\n",
      "1 2 3 4 5                                                                                                             5 4 3 2 1\n",
      "1 2 3 4 555555555555555555555555555555555555555555555555555555555555555555555555555555555555555555555555555555555555555 4 3 2 1\n",
      "1 2 3 4                                                                                                                 4 3 2 1\n",
      "1 2 3 4444444444444444444444444444444444444444444444444444444444444444444444444444444444444444444444444444444444444444444 3 2 1\n",
      "1 2 3                                                                                                                     3 2 1\n",
      "1 2 33333333333333333333333333333333333333333333333333333333333333333333333333333333333333333333333333333333333333333333333 2 1\n",
      "1 2                                                                                                                         2 1\n",
      "1 222222222222222222222222222222222222222222222222222222222222222222222222222222222222222222222222222222222222222222222222222 1\n",
      "1                                                                                                                             1\n",
      "1111111111111111111111111111111111111111111111111111111111111111111111111111111111111111111111111111111111111111111111111111111\n",
      "\n",
      "111111111111111111111111111111111111111111111111111111111111111111\n",
      "1                                                                1\n",
      "1 22222222222222222222222222222222222222222222222222222222222222 1\n",
      "1 2                                                            2 1\n",
      "1 2 3333333333333333333333333333333333333333333333333333333333 2 1\n",
      "1 2 3                                                        3 2 1\n",
      "1 2 3 444444444444444444444444444444444444444444444444444444 3 2 1\n",
      "1 2 3 4                                                    4 3 2 1\n",
      "1 2 3 4                                                    4 3 2 1\n",
      "1 2 3 4                                                    4 3 2 1\n",
      "1 2 3 444444444444444444444444444444444444444444444444444444 3 2 1\n",
      "1 2 3                                                        3 2 1\n",
      "1 2 3333333333333333333333333333333333333333333333333333333333 2 1\n",
      "1 2                                                            2 1\n",
      "1 22222222222222222222222222222222222222222222222222222222222222 1\n",
      "1                                                                1\n",
      "111111111111111111111111111111111111111111111111111111111111111111\n"
     ]
    }
   ],
   "source": [
    "static void PrintRectangles(int numRectangles)\n",
    "{\n",
    "    var shape = GetRectangles(numRectangles);\n",
    "    Console.WriteLine(string.Join(Environment.NewLine, shape));\n",
    "}\n",
    "\n",
    "// Пример использования\n",
    "PrintRectangles(5);\n",
    "Console.WriteLine();\n",
    "PrintRectangles(4);\n"
   ]
  }
 ],
 "metadata": {
  "kernelspec": {
   "display_name": ".NET (C#)",
   "language": "C#",
   "name": ".net-csharp"
  },
  "polyglot_notebook": {
   "kernelInfo": {
    "defaultKernelName": "csharp",
    "items": [
     {
      "aliases": [],
      "languageName": "csharp",
      "name": "csharp"
     }
    ]
   }
  }
 },
 "nbformat": 4,
 "nbformat_minor": 2
}
